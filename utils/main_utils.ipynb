{
 "cells": [
  {
   "cell_type": "code",
   "execution_count": 1,
   "metadata": {},
   "outputs": [],
   "source": [
    "# # For literature review\n",
    "# from generate_literary_review import build_research_report as build_lit_review\n",
    "\n",
    "# lit_review = build_lit_review(\n",
    "#     \"What are recent advances in quantum computing?\",\n",
    "#     [\"google_agent\", \"arxiv_agent\"]\n",
    "# )\n",
    "\n",
    "# For travel planning\n",
    "from travel_planning_generator import build_research_report as build_travel_plan\n",
    "\n",
    "travel_plan = build_travel_plan(\n",
    "    \"Plan a 3 day trip to Nepal\",\n",
    "    [\"planner_agent\", \"local_agent\", \"language_agent\", \"travel_summary_agent\"]\n",
    ")"
   ]
  }
 ],
 "metadata": {
  "kernelspec": {
   "display_name": "base",
   "language": "python",
   "name": "python3"
  },
  "language_info": {
   "codemirror_mode": {
    "name": "ipython",
    "version": 3
   },
   "file_extension": ".py",
   "mimetype": "text/x-python",
   "name": "python",
   "nbconvert_exporter": "python",
   "pygments_lexer": "ipython3",
   "version": "3.11.7"
  }
 },
 "nbformat": 4,
 "nbformat_minor": 2
}
