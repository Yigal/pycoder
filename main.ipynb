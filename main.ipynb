{
 "cells": [
  {
   "cell_type": "code",
   "execution_count": 1,
   "metadata": {},
   "outputs": [
    {
     "name": "stdout",
     "output_type": "stream",
     "text": [
      "[{'original': 'def run_code_in_context(code_str):\\n    try:\\n        # Get the caller\\'s frame\\n        caller_frame = inspect.currentframe().f_back\\n        \\n        # Get caller\\'s global and local variables\\n        caller_globals = caller_frame.f_globals\\n        caller_locals = caller_frame.f_locals\\n        \\n        # Execute code in caller\\'s context\\n        exec(code_str, caller_globals, caller_locals)\\n        \\n    except SyntaxError as e:\\n        print(f\"Syntax error in code: {e}\")\\n        return None\\n    except Exception as e:\\n        print(f\"Error executing code: {e}\")\\n        return None\\n    finally:\\n        # Clean up frame reference\\n        del caller_frame', 'header': 'def run_code_in_context(code_str):', 'arguments': ['code_str'], 'returns': ['return None', 'return None']}]\n",
      "\n",
      "import inspect\n",
      "import sys\n",
      "\n",
      "def run_code_in_context(code_str):\n",
      "    try:\n",
      "        # Get the caller's frame\n",
      "        caller_frame = inspect.currentframe().f_back\n",
      "        \n",
      "        # Get caller's global and local variables\n",
      "        caller_globals = caller_frame.f_globals\n",
      "        caller_locals = caller_frame.f_locals\n",
      "        \n",
      "        # Execute code in caller's context\n",
      "        exec(code_str, caller_globals, caller_locals)\n",
      "        \n",
      "    except SyntaxError as e:\n",
      "        print(f\"Syntax error in code: {e}\")\n",
      "        return None\n",
      "    except Exception as e:\n",
      "        print(f\"Error executing code: {e}\")\n",
      "        return None\n",
      "    finally:\n",
      "        # Clean up frame reference\n",
      "        del caller_frame\n",
      "\n",
      "# Example usage:\n",
      "if __name__ == \"__main__\":\n",
      "    # Test variable in main scope\n",
      "    x = 10\n",
      "    \n",
      "    # Run code that uses the main scope variable\n",
      "    run_code_in_context(\"print(x + 5)\")\n",
      "    \n",
      "    # Run code that modifies the main scope\n",
      "    run_code_in_context(\"global x; x = 20\")\n",
      "    \n",
      "    # Verify change in main scope\n",
      "    print(x)\n",
      "\n"
     ]
    }
   ],
   "source": [
    "from coding_agents import run_to_clipboard\n",
    "\n",
    "# a = 'write a function that extract all the function from a python file to an output file named functions.py' \n",
    "# b = 'write a function that get a string an execute it in the running environment '\n",
    "# a = 'write a function that get a python file print all the names of the functions and extract all the functions as a dictionary with: original function, function header, return and arguments'\n",
    "# a = 'write a python file with a gardio ui that have a chatbot window on the left and a window on the left that show a python file with sytax highlight '\n",
    "# a = 'write a function that get a backup folder named output and a format ca[i]_prompt.txt and return the largest i'\n",
    "a = 'write a function that get a code string and run it in the original running environment'\n",
    "print(run_to_clipboard(a))"
   ]
  },
  {
   "cell_type": "code",
   "execution_count": 2,
   "metadata": {},
   "outputs": [
    {
     "name": "stdout",
     "output_type": "stream",
     "text": [
      "Error: Error communicating with the server: 404 Client Error: Not Found for url: http://localhost:8000/api/getSources\n"
     ]
    }
   ],
   "source": [
    "import requests\n",
    "import json\n",
    "\n",
    "def handle_sources_and_answer(question: str, base_url: str = \"http://localhost:8000\") -> str:\n",
    "    \"\"\"\n",
    "    Send a question to get sources and then get an answer from the backend server.\n",
    "    \n",
    "    Args:\n",
    "        question: The research question to ask\n",
    "        base_url: The base URL of the backend server (default: http://localhost:8000)\n",
    "        \n",
    "    Returns:\n",
    "        str: The answer from the backend\n",
    "    \"\"\"\n",
    "    try:\n",
    "        # First get the sources\n",
    "        sources_url = f\"{base_url}/api/getSources\"\n",
    "        sources_response = requests.post(\n",
    "            sources_url,\n",
    "            data=json.dumps({\"question\": question}),\n",
    "            headers={\"Content-Type\": \"application/json\"}\n",
    "        )\n",
    "        sources_response.raise_for_status()\n",
    "        sources = sources_response.json()\n",
    "\n",
    "        # Then get the answer using the sources\n",
    "        answer_url = f\"{base_url}/api/getAnswer\"\n",
    "        answer_response = requests.post(\n",
    "            answer_url,\n",
    "            json={\"question\": question, \"sources\": sources},\n",
    "            headers={\"Content-Type\": \"application/json\"}\n",
    "        )\n",
    "        answer_response.raise_for_status()\n",
    "\n",
    "        # Handle 202 status specifically\n",
    "        if answer_response.status_code == 202:\n",
    "            return answer_response.text\n",
    "\n",
    "        # Handle streaming response if needed\n",
    "        if answer_response.headers.get('transfer-encoding') == 'chunked':\n",
    "            full_response = \"\"\n",
    "            for chunk in answer_response.iter_content(chunk_size=1024):\n",
    "                if chunk:\n",
    "                    full_response += chunk.decode('utf-8')\n",
    "            return full_response\n",
    "            \n",
    "        return answer_response.text\n",
    "\n",
    "    except requests.RequestException as e:\n",
    "        raise Exception(f\"Error communicating with the server: {str(e)}\")\n",
    "\n",
    "# Example usage\n",
    "if __name__ == \"__main__\":\n",
    "    try:\n",
    "        question = \"What are the latest developments in AI?\"\n",
    "        answer = handle_sources_and_answer(question)\n",
    "        print(\"Answer:\", answer)\n",
    "    except Exception as e:\n",
    "        print(f\"Error: {str(e)}\")"
   ]
  }
 ],
 "metadata": {
  "kernelspec": {
   "display_name": "base",
   "language": "python",
   "name": "python3"
  },
  "language_info": {
   "codemirror_mode": {
    "name": "ipython",
    "version": 3
   },
   "file_extension": ".py",
   "mimetype": "text/x-python",
   "name": "python",
   "nbconvert_exporter": "python",
   "pygments_lexer": "ipython3",
   "version": "3.11.7"
  }
 },
 "nbformat": 4,
 "nbformat_minor": 2
}
