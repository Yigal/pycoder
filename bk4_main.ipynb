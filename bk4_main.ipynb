{
 "cells": [
  {
   "cell_type": "code",
   "execution_count": 1,
   "metadata": {},
   "outputs": [
    {
     "data": {
      "text/plain": [
       "True"
      ]
     },
     "execution_count": 1,
     "metadata": {},
     "output_type": "execute_result"
    }
   ],
   "source": [
    "import sys\n",
    "import os\n",
    "from dotenv import load_dotenv\n",
    "import warnings\n",
    "import nest_asyncio\n",
    "import pyperclip\n",
    "nest_asyncio.apply()\n",
    "# warnings.filterwarnings('ignore')\n",
    "\n",
    "\n",
    "load_dotenv()\n"
   ]
  },
  {
   "cell_type": "code",
   "execution_count": 2,
   "metadata": {},
   "outputs": [],
   "source": [
    "from llama_index.llms.anthropic import Anthropic\n",
    "from llama_index.multi_modal_llms.anthropic import AnthropicMultiModal"
   ]
  },
  {
   "cell_type": "code",
   "execution_count": 3,
   "metadata": {},
   "outputs": [],
   "source": [
    "llm = Anthropic(model= 'claude-3-5-sonnet-20241022', max_tokens=8192)\n"
   ]
  },
  {
   "cell_type": "code",
   "execution_count": 4,
   "metadata": {},
   "outputs": [],
   "source": [
    "coding_agent_prompt = \"\"\"\n",
    "Please provide Python code that solves the following problem. The code should:\n",
    "- Use standard Python syntax and conventions\n",
    "- Include necessary imports at the beginning\n",
    "- Be properly indented and formatted\n",
    "- Include brief inline comments for clarity\n",
    "- Handle basic error cases\n",
    "- Return or print the required output\n",
    "\n",
    "Return only the executable Python code without explanations.\n",
    "Problem:\n",
    "{task_description}\n",
    "\"\"\"\n",
    "\n",
    "\n",
    "error_correction_prompt = \"\"\"\n",
    "The following script has an error:\n",
    "\n",
    "### Original Script:\n",
    "{original_script}\n",
    "\n",
    "### Error Message:\n",
    "{error_string}\n",
    "\n",
    "Please analyze the error and suggest a corrected version of the script, explaining the necessary changes. Include comments in the code where applicable to explain the corrections.\n",
    "\n",
    "Provide only the corrected script below:\n",
    "\"\"\"\n"
   ]
  },
  {
   "cell_type": "code",
   "execution_count": 5,
   "metadata": {},
   "outputs": [],
   "source": []
  },
  {
   "cell_type": "code",
   "execution_count": 6,
   "metadata": {},
   "outputs": [],
   "source": [
    "\n",
    "def fix_script(script, result, llm=llm, coding_agent_prompt=coding_agent_prompt):\n",
    "    prompt = coding_agent_prompt.format(task_description=f\"The following script was generated to solve a task, but it did not work. Please correct it: {script}. T\n",
    "import sys\n",
    "from io import StringIO\n",
    "\n",
    "def run_code(code_string):\n",
    "    try:\n",
    "        # Capture stdout\n",
    "        old_stdout = sys.stdout\n",
    "        redirected_output = sys.stdout = StringIO()\n",
    "        \n",
    "        # Create a dictionary to hold local variables\n",
    "        exec_locals = {}\n",
    "        \n",
    "        # Check if the code is an evaluable expression\n",
    "        try:\n",
    "            exec(f\"_last_expr_result = {code_string}\", {}, exe"
   ]
  },
  {
   "cell_type": "code",
   "execution_count": 7,
   "metadata": {},
   "outputs": [],
   "source": [
    "\n",
    "def extract_functions(code_string):\n",
    "    try:\n",
    "        # Parse code string into AST\n",
    "        tree = ast.parse(code_string)\n",
    "        \n",
    "        functions = {}\n",
    "        \n",
    "        # Walk through AST nodes\n",
    "        for node in ast.walk(tree):\n",
    "            if isinstance(node, ast.FunctionDef):\n",
    "                # Get function name\n",
    "                func_name = node.name\n",
    "                \n",
    "                # Get input arguments\n",
    "                args = []\n",
    "                for arg in node.args.args:\n",
    "                    args.append(arg.arg)\n",
    "                    \n",
    "                # Find return statements\n",
    "                returns = []\n",
    "                for child in ast.walk(node):\n",
    "                    if isinstance(child, ast.Return):\n",
    "                        # Extract return value\n",
    "                        if isinstance(child.value, ast.Name):\n",
    "                            returns.append(child.value.id)\n",
    "                        elif isinstance(child.value, ast.Tuple):\n",
    "                            for elt in child.value.elts:\n",
    "                                if isinstance(elt, ast.Name):\n",
    "       "
   ]
  },
  {
   "cell_type": "code",
   "execution_count": 8,
   "metadata": {},
   "outputs": [],
   "source": []
  },
  {
   "cell_type": "code",
   "execution_count": 14,
   "metadata": {},
   "outputs": [],
   "source": [
    "a = 'write a function that read a string containing python code and extract all the function definitions as a dictionary with: function_name, input arguments and return arguments'\n",
    "b = 'write a function that get a function and a jupyter notebook file name and run the function on all the jupyter notebook cells, it return a list with the return values from all the cells'\n",
    "c = 'write a function that get a jupyter notebook file and save all the functions in the notebook as a python file'\n",
    "d = 'change this function to save the original notebook file as a bk[i]_original_name.ipynb and move all the functions from the code cell of the notebook to a new python file named functions.py' \n",
    "e = 'write a function that get a jupyter notebook file and attach the imports in the start of the file functions.py '"
   ]
  },
  {
   "cell_type": "code",
   "execution_count": 15,
   "metadata": {},
   "outputs": [
    {
     "data": {
      "text/plain": [
       "'\\nimport json\\nimport re\\nimport nbformat\\n\\ndef extract_imports_from_notebook(notebook_path):\\n    try:\\n        # Read the notebook\\n        with open(notebook_path, \\'r\\', encoding=\\'utf-8\\') as f:\\n            notebook = nbformat.read(f, as_version=4)\\n            \\n        # Extract imports from code cells\\n        imports = []\\n        for cell in notebook.cells:\\n            if cell.cell_type == \\'code\\':\\n                code = cell.source\\n                # Find import statements using regex\\n                import_lines = re.findall(r\\'^(?:from\\\\s+[\\\\w.]+\\\\s+import\\\\s+[\\\\w.*,\\\\s]+|import\\\\s+[\\\\w.,\\\\s]+)\\', \\n                                        code, \\n                                        re.MULTILINE)\\n                imports.extend(import_lines)\\n        \\n        # Remove duplicates while preserving order\\n        unique_imports = []\\n        for imp in imports:\\n            if imp not in unique_imports:\\n                unique_imports.append(imp)\\n                \\n        return unique_imports\\n        \\n    except Exception as e:\\n        print(f\"Error processing notebook: {str(e)}\")\\n        return []\\n\\ndef append_imports_to_functions(notebook_path, functions_path):\\n    try:\\n        # Get imports from notebook\\n        imports = extract_imports_from_notebook(notebook_path)\\n        \\n        if not imports:\\n            print(\"No imports found in notebook\")\\n            return\\n            \\n        # Read existing functions.py content\\n        try:\\n            with open(functions_path, \\'r\\') as f:\\n                existing_content = f.read()\\n        except FileNotFoundError:\\n            existing_content = \"\"\\n            \\n        # Combine imports with existing content\\n        import_text = \"\\\\n\".join(imports)\\n        new_content = f\"{import_text}\\\\n\\\\n{existing_content}\"\\n        \\n        # Write back to functions.py\\n        with open(functions_path, \\'w\\') as f:\\n            f.write(new_content)\\n            \\n        print(f\"Successfully added {len(imports)} imports to {functions_path}\")\\n        \\n    except Exception as e:\\n        print(f\"Error: {str(e)}\")\\n\\nif __name__ == \"__main__\":\\n    # Example usage\\n    notebook_path = \"notebook.ipynb\"\\n    functions_path = \"functions.py\"\\n    append_imports_to_functions(notebook_path, functions_path)\\n'"
      ]
     },
     "execution_count": 15,
     "metadata": {},
     "output_type": "execute_result"
    }
   ],
   "source": [
    "run_to_clipboard(e)"
   ]
  },
  {
   "cell_type": "code",
   "execution_count": 17,
   "metadata": {},
   "outputs": [
    {
     "name": "stdout",
     "output_type": "stream",
     "text": [
      "Successfully added 5 imports to functions.py\n"
     ]
    }
   ],
   "source": [
    "\n",
    "import json\n",
    "import re\n",
    "import nbformat\n",
    "\n",
    "\n",
    "def append_imports_to_functions(notebook_path, functions_path):\n",
    "    try:\n",
    "        # Get imports from notebook\n",
    "        imports = extract_imports_from_notebook(notebook_path)\n",
    "        \n",
    "        if not imports:\n",
    "            print(\"No imports found in notebook\")\n",
    "            return\n",
    "            \n",
    "        # Read existing functions.py content\n",
    "        try:\n",
    "            with open(functions_path, 'r') as f:\n",
    "                existing_content = f.read()\n",
    "        except FileNotFoundError:\n",
    "            existing_content = \"\"\n",
    "            \n",
    "        # Combine imports with existing content\n",
    "        import_text = \"\\n\".join(imports)\n",
    "        new_content = f\"{import_text}\\n\\n{existing_content}\"\n",
    "        \n",
    "        # Write back to functions.py\n",
    "        with open(functions_path, 'w') as f:\n",
    "            f.write(new_content)\n",
    "            \n",
    "        print(f\"Successfully added {len(imports)} imports to {functions_path}\")\n",
    "        \n",
    "    except Exception as e:\n",
    "        print(f\"Error: {str(e)}\")\n",
    "\n",
    "if __name__ == \"__main__\":\n",
    "    # Example usage\n",
    "    notebook_path = \"main.ipynb\"\n",
    "    functions_pa"
   ]
  },
  {
   "cell_type": "code",
   "execution_count": 12,
   "metadata": {},
   "outputs": [],
   "source": [
    "\n",
    "import nbformat\n",
    "import os\n",
    "import re\n",
    "\n"
   ]
  },
  {
   "cell_type": "code",
   "execution_count": 13,
   "metadata": {},
   "outputs": [],
   "source": [
    "\n",
    "import json\n",
    "import shutil\n",
    "import os\n",
    "from pathlib import Path\n",
    "\n"
   ]
  }
 ],
 "metadata": {
  "kernelspec": {
   "display_name": "base",
   "language": "python",
   "name": "python3"
  },
  "language_info": {
   "codemirror_mode": {
    "name": "ipython",
    "version": 3
   },
   "file_extension": ".py",
   "mimetype": "text/x-python",
   "name": "python",
   "nbconvert_exporter": "python",
   "pygments_lexer": "ipython3",
   "version": "3.11.7"
  }
 },
 "nbformat": 4,
 "nbformat_minor": 2
}
