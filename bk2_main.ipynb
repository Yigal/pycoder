{
 "cells": [
  {
   "cell_type": "code",
   "execution_count": 25,
   "metadata": {},
   "outputs": [
    {
     "data": {
      "text/plain": [
       "True"
      ]
     },
     "execution_count": 25,
     "metadata": {},
     "output_type": "execute_result"
    }
   ],
   "source": [
    "import sys\n",
    "import os\n",
    "from dotenv import load_dotenv\n",
    "import warnings\n",
    "import nest_asyncio\n",
    "import pyperclip\n",
    "nest_asyncio.apply()\n",
    "# warnings.filterwarnings('ignore')\n",
    "\n",
    "\n",
    "load_dotenv()\n"
   ]
  },
  {
   "cell_type": "code",
   "execution_count": 2,
   "metadata": {},
   "outputs": [],
   "source": [
    "from llama_index.llms.anthropic import Anthropic\n",
    "from llama_index.multi_modal_llms.anthropic import AnthropicMultiModal"
   ]
  },
  {
   "cell_type": "code",
   "execution_count": 3,
   "metadata": {},
   "outputs": [],
   "source": [
    "llm = Anthropic(model= 'claude-3-5-sonnet-20241022', max_tokens=8192)\n"
   ]
  },
  {
   "cell_type": "code",
   "execution_count": 4,
   "metadata": {},
   "outputs": [],
   "source": [
    "coding_agent_prompt = \"\"\"\n",
    "Please provide Python code that solves the following problem. The code should:\n",
    "- Use standard Python syntax and conventions\n",
    "- Include necessary imports at the beginning\n",
    "- Be properly indented and formatted\n",
    "- Include brief inline comments for clarity\n",
    "- Handle basic error cases\n",
    "- Return or print the required output\n",
    "\n",
    "Return only the executable Python code without explanations.\n",
    "Problem:\n",
    "{task_description}\n",
    "\"\"\"\n",
    "\n",
    "\n",
    "error_correction_prompt = \"\"\"\n",
    "The following script has an error:\n",
    "\n",
    "### Original Script:\n",
    "{original_script}\n",
    "\n",
    "### Error Message:\n",
    "{error_string}\n",
    "\n",
    "Please analyze the error and suggest a corrected version of the script, explaining the necessary changes. Include comments in the code where applicable to explain the corrections.\n",
    "\n",
    "Provide only the corrected script below:\n",
    "\"\"\"\n"
   ]
  },
  {
   "cell_type": "code",
   "execution_count": 5,
   "metadata": {},
   "outputs": [],
   "source": []
  },
  {
   "cell_type": "code",
   "execution_count": 6,
   "metadata": {},
   "outputs": [],
   "source": [
    "\n",
    "def fix_script(script, result, llm=llm, coding_agent_prompt=coding_agent_prompt):\n",
    "    prompt = coding_agent_prompt.format(task_description=f\"The following script was generated to solve a task, but it did not work. Please correct it: {script}. T\n",
    "import sys\n",
    "from io import StringIO\n",
    "\n",
    "def run_code(code_string):\n",
    "    try:\n",
    "        # Capture stdout\n",
    "        old_stdout = sys.stdout\n",
    "        redirected_output = sys.stdout = StringIO()\n",
    "        \n",
    "        # Create a dictionary to hold local variables\n",
    "        exec_locals = {}\n",
    "        \n",
    "        # Check if the code is an evaluable expression\n",
    "        try:\n",
    "            exec(f\"_last_expr_result = {code_string}\", {}, exe"
   ]
  },
  {
   "cell_type": "code",
   "execution_count": 32,
   "metadata": {},
   "outputs": [],
   "source": [
    "\n",
    "def extract_functions(code_string):\n",
    "    try:\n",
    "        # Parse code string into AST\n",
    "        tree = ast.parse(code_string)\n",
    "        \n",
    "        functions = {}\n",
    "        \n",
    "        # Walk through AST nodes\n",
    "        for node in ast.walk(tree):\n",
    "            if isinstance(node, ast.FunctionDef):\n",
    "                # Get function name\n",
    "                func_name = node.name\n",
    "                \n",
    "                # Get input arguments\n",
    "                args = []\n",
    "                for arg in node.args.args:\n",
    "                    args.append(arg.arg)\n",
    "                    \n",
    "                # Find return statements\n",
    "                returns = []\n",
    "                for child in ast.walk(node):\n",
    "                    if isinstance(child, ast.Return):\n",
    "                        # Extract return value\n",
    "                        if isinstance(child.value, ast.Name):\n",
    "                            returns.append(child.value.id)\n",
    "                        elif isinstance(child.value, ast.Tuple):\n",
    "                            for elt in child.value.elts:\n",
    "                                if isinstance(elt, ast.Name):\n",
    "       "
   ]
  },
  {
   "cell_type": "code",
   "execution_count": null,
   "metadata": {},
   "outputs": [],
   "source": []
  },
  {
   "cell_type": "code",
   "execution_count": 46,
   "metadata": {},
   "outputs": [],
   "source": [
    "a = 'write a function that read a string containing python code and extract all the function definitions as a dictionary with: function_name, input arguments and return arguments'\n",
    "b = 'write a function that get a function and a jupyter notebook file name and run the function on all the jupyter notebook cells, it return a list with the return values from all the cells'\n",
    "c = 'write a function that get a jupyter notebook file and save all the functions in the notebook as a python file'\n",
    "d = 'change this function to save the original notebook file as a bk[i]_original_name.ipynb and move all the functions from the code cell of the notebook to a new python file named functions.py' "
   ]
  },
  {
   "cell_type": "code",
   "execution_count": 47,
   "metadata": {},
   "outputs": [
    {
     "data": {
      "text/plain": [
       "'\\nimport nbformat\\nimport os\\nimport re\\n\\ndef extract_functions(notebook_path):\\n    try:\\n        # Read the notebook\\n        with open(notebook_path, \\'r\\', encoding=\\'utf-8\\') as f:\\n            nb = nbformat.read(f, as_version=4)\\n            \\n        # Get original filename without extension\\n        base_name = os.path.splitext(notebook_path)[0]\\n        \\n        # Create backup filename\\n        i = 1\\n        while os.path.exists(f\\'bk{i}_{os.path.basename(notebook_path)}\\'):\\n            i += 1\\n        backup_path = f\\'bk{i}_{os.path.basename(notebook_path)}\\'\\n        \\n        # Save backup copy\\n        with open(backup_path, \\'w\\', encoding=\\'utf-8\\') as f:\\n            nbformat.write(nb, f)\\n            \\n        # Extract functions from code cells\\n        functions = []\\n        for cell in nb.cells:\\n            if cell.cell_type == \\'code\\':\\n                # Find function definitions using regex\\n                matches = re.finditer(r\\'def\\\\s+\\\\w+\\\\s*\\\\([^)]*\\\\)\\\\s*:\\', cell.source)\\n                for match in matches:\\n                    # Get the full function definition\\n                    start = match.start()\\n                    lines = cell.source[start:].split(\\'\\\\n\\')\\n                    \\n                    # Get indented function body\\n                    func_lines = [lines[0]]\\n                    for line in lines[1:]:\\n                        if line.strip() == \\'\\' or line.startswith(\\' \\'):\\n                            func_lines.append(line)\\n                        else:\\n                            break\\n                    functions.append(\\'\\\\n\\'.join(func_lines))\\n                    \\n                    # Remove function from cell\\n                    cell.source = cell.source.replace(\\'\\\\n\\'.join(func_lines), \\'\\')\\n                    \\n        # Write functions to functions.py\\n        with open(\\'functions.py\\', \\'w\\', encoding=\\'utf-8\\') as f:\\n            f.write(\\'\\\\n\\\\n\\'.join(functions))\\n            \\n        # Save modified notebook\\n        with open(notebook_path, \\'w\\', encoding=\\'utf-8\\') as f:\\n            nbformat.write(nb, f)\\n            \\n        return True\\n        \\n    except Exception as e:\\n        print(f\"Error: {str(e)}\")\\n        return False\\n'"
      ]
     },
     "execution_count": 47,
     "metadata": {},
     "output_type": "execute_result"
    }
   ],
   "source": [
    "run_to_clipboard(d)"
   ]
  },
  {
   "cell_type": "code",
   "execution_count": null,
   "metadata": {},
   "outputs": [],
   "source": [
    "extract_functions('')"
   ]
  },
  {
   "cell_type": "code",
   "execution_count": 48,
   "metadata": {},
   "outputs": [],
   "source": [
    "\n",
    "import nbformat\n",
    "import os\n",
    "import re\n",
    "\n"
   ]
  },
  {
   "cell_type": "code",
   "execution_count": 44,
   "metadata": {},
   "outputs": [],
   "source": [
    "\n",
    "import json\n",
    "import shutil\n",
    "import os\n",
    "from pathlib import Path\n",
    "\n"
   ]
  }
 ],
 "metadata": {
  "kernelspec": {
   "display_name": "base",
   "language": "python",
   "name": "python3"
  },
  "language_info": {
   "codemirror_mode": {
    "name": "ipython",
    "version": 3
   },
   "file_extension": ".py",
   "mimetype": "text/x-python",
   "name": "python",
   "nbconvert_exporter": "python",
   "pygments_lexer": "ipython3",
   "version": "3.11.7"
  }
 },
 "nbformat": 4,
 "nbformat_minor": 2
}
